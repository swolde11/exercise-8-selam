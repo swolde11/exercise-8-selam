{
 "cells": [
  {
   "cell_type": "markdown",
   "metadata": {},
   "source": [
    "### Exercise 1\n",
    "Create a multiplication table from 1 to 10"
   ]
  },
  {
   "cell_type": "code",
   "execution_count": 11,
   "metadata": {},
   "outputs": [
    {
     "name": "stdout",
     "output_type": "stream",
     "text": [
      "1*1 =1   1*2 =2   1*3 =3   1*4 =4   1*5 =5   1*6 =6   1*7 =7   1*8 =8   1*9 =9   1*10 =10   \n",
      "2*1 =2   2*2 =4   2*3 =6   2*4 =8   2*5 =10   2*6 =12   2*7 =14   2*8 =16   2*9 =18   2*10 =20   \n",
      "3*1 =3   3*2 =6   3*3 =9   3*4 =12   3*5 =15   3*6 =18   3*7 =21   3*8 =24   3*9 =27   3*10 =30   \n",
      "4*1 =4   4*2 =8   4*3 =12   4*4 =16   4*5 =20   4*6 =24   4*7 =28   4*8 =32   4*9 =36   4*10 =40   \n",
      "5*1 =5   5*2 =10   5*3 =15   5*4 =20   5*5 =25   5*6 =30   5*7 =35   5*8 =40   5*9 =45   5*10 =50   \n",
      "6*1 =6   6*2 =12   6*3 =18   6*4 =24   6*5 =30   6*6 =36   6*7 =42   6*8 =48   6*9 =54   6*10 =60   \n",
      "7*1 =7   7*2 =14   7*3 =21   7*4 =28   7*5 =35   7*6 =42   7*7 =49   7*8 =56   7*9 =63   7*10 =70   \n",
      "8*1 =8   8*2 =16   8*3 =24   8*4 =32   8*5 =40   8*6 =48   8*7 =56   8*8 =64   8*9 =72   8*10 =80   \n",
      "9*1 =9   9*2 =18   9*3 =27   9*4 =36   9*5 =45   9*6 =54   9*7 =63   9*8 =72   9*9 =81   9*10 =90   \n",
      "10*1 =10   10*2 =20   10*3 =30   10*4 =40   10*5 =50   10*6 =60   10*7 =70   10*8 =80   10*9 =90   10*10 =100   \n"
     ]
    }
   ],
   "source": [
    "for i in range(1,11):\n",
    "    #print(f\"i = {i}\")\n",
    "    for j in range(1,11):\n",
    "        print(f\"{i}*{j} ={i*j}   \",end ='')\n",
    "    print()"
   ]
  },
  {
   "cell_type": "markdown",
   "metadata": {},
   "source": [
    "### Exercise 2\n",
    "Write a program to find the Fibonacci numbers where each number is the sum of the two preceding ones, starting from 0 and 1. \n",
    "\n",
    "    e.g.\n",
    "    0, 1, 1, 2, 3, 5, 8, ...\n",
    "    \n",
    "Ask a user to enter a number of sequence. Generate the Fibonacci numbers in to a list. Then, print out the list.  \n",
    "\n",
    "The output should look something like this:\n",
    "\n",
    "    How many Fibonacci numbers would you like to generate? 10    \n",
    "    10 Fibonacci numbers are [0, 1, 1, 2, 3, 5, 8, 13, 21, 34]."
   ]
  },
  {
   "cell_type": "code",
   "execution_count": 30,
   "metadata": {},
   "outputs": [
    {
     "ename": "SyntaxError",
     "evalue": "invalid syntax (<ipython-input-30-d79120ade21c>, line 5)",
     "output_type": "error",
     "traceback": [
      "\u001b[0;36m  File \u001b[0;32m\"<ipython-input-30-d79120ade21c>\"\u001b[0;36m, line \u001b[0;32m5\u001b[0m\n\u001b[0;31m    for item in (n1,num):\u001b[0m\n\u001b[0m                        ^\u001b[0m\n\u001b[0;31mSyntaxError\u001b[0m\u001b[0;31m:\u001b[0m invalid syntax\n"
     ]
    }
   ],
   "source": [
    "count = 0\n",
    "n1 = 0\n",
    "n2 = 1\n",
    "num = int(input(\"how many fibonacci numbers whould you like?\")\n",
    "  for item in (n1,num):\n",
    "    n1 = n2\n",
    "    n2 = nth\n",
    "    count += 1\n",
    "      print(f\"fibonacci numbers are: {count}\")\n",
    "              "
   ]
  },
  {
   "cell_type": "code",
   "execution_count": null,
   "metadata": {},
   "outputs": [],
   "source": []
  },
  {
   "cell_type": "code",
   "execution_count": null,
   "metadata": {},
   "outputs": [],
   "source": []
  }
 ],
 "metadata": {
  "kernelspec": {
   "display_name": "Python 3",
   "language": "python",
   "name": "python3"
  },
  "language_info": {
   "codemirror_mode": {
    "name": "ipython",
    "version": 3
   },
   "file_extension": ".py",
   "mimetype": "text/x-python",
   "name": "python",
   "nbconvert_exporter": "python",
   "pygments_lexer": "ipython3",
   "version": "3.8.8"
  }
 },
 "nbformat": 4,
 "nbformat_minor": 4
}
